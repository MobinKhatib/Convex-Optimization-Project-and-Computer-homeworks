{
 "cells": [
  {
   "cell_type": "code",
   "execution_count": 11,
   "metadata": {
    "id": "YCDxW_eldf5W"
   },
   "outputs": [],
   "source": [
    "import numpy as np\n",
    "#from tabulate import tabulate\n",
    "from numpy.linalg import eig\n",
    "from numpy.linalg import svd\n",
    "import matplotlib.pyplot as plt\n"
   ]
  },
  {
   "cell_type": "code",
   "execution_count": 12,
   "metadata": {
    "colab": {
     "base_uri": "https://localhost:8080/"
    },
    "id": "pePMX3ALY0wA",
    "outputId": "6c53b356-2bee-47f9-d4df-27e3d833037e"
   },
   "outputs": [
    {
     "name": "stdout",
     "output_type": "stream",
     "text": [
      "E-value: [[ 1.77992586+0.j          0.16961483+0.17374393j  0.16961483-0.17374393j]\n",
      " [-0.24366196+0.96986022j -0.24366196-0.96986022j -1.        +0.j        ]]\n",
      "E-vector [[[ 1.        +0.j         -0.18595837+0.0642108j\n",
      "   -0.18595837-0.0642108j ]\n",
      "  [ 0.        +0.j          0.73516976+0.j\n",
      "    0.73516976-0.j        ]\n",
      "  [ 0.        +0.j          0.2706566 -0.58954804j\n",
      "    0.2706566 +0.58954804j]]\n",
      "\n",
      " [[-0.08555615+0.55412842j -0.08555615-0.55412842j\n",
      "    0.6092977 +0.j        ]\n",
      "  [-0.69356392+0.j         -0.69356392-0.j\n",
      "   -0.19477722+0.j        ]\n",
      "  [-0.10793159-0.43925129j -0.10793159+0.43925129j\n",
      "    0.76864696+0.j        ]]]\n"
     ]
    }
   ],
   "source": [
    "# 1.2\n",
    "# A : square random matrix with size n\n",
    "n = 3\n",
    "A = np.random.rand(n, n)\n",
    "def QR_eignvalue_eignvector(A, iterations=5000):\n",
    "    Ak = np.copy(A)\n",
    "    n = A.shape[0]\n",
    "    QQ = np.eye(n)\n",
    "    for k in range(iterations):\n",
    "        Q, R = np.linalg.qr(Ak)\n",
    "        Ak = np.dot(R,Q)\n",
    "        QQ = np.dot(QQ,Q)\n",
    "    return Ak, QQ\n",
    "w,v=eig(QR_eignvalue_eignvector(A))\n",
    "print('E-value:', (w))\n",
    "print('E-vector', (v))"
   ]
  },
  {
   "cell_type": "code",
   "execution_count": 16,
   "metadata": {
    "id": "1A7dAedtbRJx"
   },
   "outputs": [
    {
     "ename": "ValueError",
     "evalue": "Cannot load file containing pickled data when allow_pickle=False",
     "output_type": "error",
     "traceback": [
      "\u001b[1;31m---------------------------------------------------------------------------\u001b[0m",
      "\u001b[1;31mValueError\u001b[0m                                Traceback (most recent call last)",
      "\u001b[1;32m<ipython-input-16-246ecb12a643>\u001b[0m in \u001b[0;36m<module>\u001b[1;34m\u001b[0m\n\u001b[0;32m     24\u001b[0m \u001b[1;31m# Load the image as a numpy array\u001b[0m\u001b[1;33m\u001b[0m\u001b[1;33m\u001b[0m\u001b[1;33m\u001b[0m\u001b[0m\n\u001b[0;32m     25\u001b[0m \u001b[1;33m\u001b[0m\u001b[0m\n\u001b[1;32m---> 26\u001b[1;33m \u001b[0mimage\u001b[0m \u001b[1;33m=\u001b[0m \u001b[0mnp\u001b[0m\u001b[1;33m.\u001b[0m\u001b[0mload\u001b[0m\u001b[1;33m(\u001b[0m\u001b[1;34m'q2_pic.jpg'\u001b[0m\u001b[1;33m)\u001b[0m\u001b[1;33m\u001b[0m\u001b[1;33m\u001b[0m\u001b[0m\n\u001b[0m\u001b[0;32m     27\u001b[0m \u001b[1;31m#image = plt.imread('q2_pic.jpg')\u001b[0m\u001b[1;33m\u001b[0m\u001b[1;33m\u001b[0m\u001b[1;33m\u001b[0m\u001b[0m\n\u001b[0;32m     28\u001b[0m \u001b[1;33m\u001b[0m\u001b[0m\n",
      "\u001b[1;32m~\\anaconda3\\lib\\site-packages\\numpy\\lib\\npyio.py\u001b[0m in \u001b[0;36mload\u001b[1;34m(file, mmap_mode, allow_pickle, fix_imports, encoding)\u001b[0m\n\u001b[0;32m    443\u001b[0m             \u001b[1;31m# Try a pickle\u001b[0m\u001b[1;33m\u001b[0m\u001b[1;33m\u001b[0m\u001b[1;33m\u001b[0m\u001b[0m\n\u001b[0;32m    444\u001b[0m             \u001b[1;32mif\u001b[0m \u001b[1;32mnot\u001b[0m \u001b[0mallow_pickle\u001b[0m\u001b[1;33m:\u001b[0m\u001b[1;33m\u001b[0m\u001b[1;33m\u001b[0m\u001b[0m\n\u001b[1;32m--> 445\u001b[1;33m                 raise ValueError(\"Cannot load file containing pickled data \"\n\u001b[0m\u001b[0;32m    446\u001b[0m                                  \"when allow_pickle=False\")\n\u001b[0;32m    447\u001b[0m             \u001b[1;32mtry\u001b[0m\u001b[1;33m:\u001b[0m\u001b[1;33m\u001b[0m\u001b[1;33m\u001b[0m\u001b[0m\n",
      "\u001b[1;31mValueError\u001b[0m: Cannot load file containing pickled data when allow_pickle=False"
     ]
    }
   ],
   "source": [
    "#2.1\n",
    "def svd_compress(image, k):\n",
    "    # Apply SVD decomposition\n",
    "    U, S, V = svd(image)\n",
    "    # Truncate the singular values matrix\n",
    "    S_k = S[:k]\n",
    "    # Truncate the matrices U and V\n",
    "    U_k = U[:, :k]\n",
    "    V_k = V[:k, :]\n",
    "    # Reconstruct the compressed image\n",
    "    compressed_image = U_k.dot(np.diag(S_k)).dot(V_k)\n",
    "    return compressed_image\n",
    "\n",
    "def psnr(original, compressed):\n",
    "    # Calculate the MSE between the original and compressed images\n",
    "    mse = np.mean((original - compressed) ** 2)\n",
    "    # Calculate the maximum possible pixel value\n",
    "    max_pixel_value = np.max(original)\n",
    "    # Calculate the PSNR value\n",
    "    psnr = 20 * np.log10(max_pixel_value / np.sqrt(mse))\n",
    "    return psnr\n",
    "\n",
    "\n",
    "# Load the image as a numpy array\n",
    "\n",
    "image = np.load('q2_pic.jpg')\n",
    "#image = plt.imread('q2_pic.jpg')\n",
    "\n",
    "# Compress the image using SVD with rank k=100\n",
    "\n",
    "compressed_image = svd_compress(image, k=100)\n",
    "\n",
    "\n",
    "# Load the original image as a numpy array\n",
    "original_image = np.load('original_image.npy')\n",
    "# Calculate the PSNR value between the original and compressed images\n",
    "psnr_value = psnr(original_image, compressed_image)"
   ]
  },
  {
   "cell_type": "code",
   "execution_count": null,
   "metadata": {},
   "outputs": [],
   "source": []
  }
 ],
 "metadata": {
  "colab": {
   "provenance": []
  },
  "kernelspec": {
   "display_name": "Python 3",
   "language": "python",
   "name": "python3"
  },
  "language_info": {
   "codemirror_mode": {
    "name": "ipython",
    "version": 3
   },
   "file_extension": ".py",
   "mimetype": "text/x-python",
   "name": "python",
   "nbconvert_exporter": "python",
   "pygments_lexer": "ipython3",
   "version": "3.8.8"
  }
 },
 "nbformat": 4,
 "nbformat_minor": 1
}
